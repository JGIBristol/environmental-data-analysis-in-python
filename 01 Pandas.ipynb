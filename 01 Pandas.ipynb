{
 "cells": [
  {
   "cell_type": "markdown",
   "id": "optional-replica",
   "metadata": {},
   "source": [
    "# Introduction to Pandas\n",
    "\n",
    "Pandas is a Python library providing high-performance, easy-to-use data structures and data analysis tools. Pandas provides easy and powerful ways to import data from a variety of sources and export it to just as many. It is also explicitly designed to handle *missing data* elegantly which is a very common problem in data from the real world.\n",
    "\n",
    "It can be used to perform the same tasks that you might use spreadsheets such as Excel for: columns of data being combined together with functions being applied to them and finally being displayed as a graph.\n",
    "\n",
    "The offical [pandas documentation](http://pandas.pydata.org/pandas-docs/stable/) is very comprehensive and you will be able to answer a lot of questions in there, however, it can sometimes be hard to find the right page. Don't be afraid to use Google to find help.\n",
    "\n",
    "We're going to start off with a quick overview of how we can use Pandas to read a file, ask some questions of it and plot the results. Then, in the next few chapters, we will dive into each of these topics in more detail."
   ]
  },
  {
   "cell_type": "markdown",
   "id": "alive-madness",
   "metadata": {},
   "source": [
    "## Reading in data"
   ]
  },
  {
   "cell_type": "markdown",
   "id": "lovely-catholic",
   "metadata": {},
   "source": [
    "Pandas is not a core part of Python, but is a very commonly used 3rd-party package. If you have installed Python using Anaconda then it is bundled as part of it.\n",
    "\n",
    "You can get access to Pandas by importing the `pandas` module. By convention, it is imported as `pd`:"
   ]
  },
  {
   "cell_type": "code",
   "execution_count": 1,
   "id": "social-function",
   "metadata": {},
   "outputs": [],
   "source": [
    "import pandas as pd"
   ]
  },
  {
   "cell_type": "markdown",
   "id": "charitable-vegetable",
   "metadata": {},
   "source": [
    "Pandas provides functionality for reading in all sorts of file formats, including:\n",
    "- Comma separated tables (or tab-separated or space-separated etc.)\n",
    "- Excel spreadsheets\n",
    "- HDF5 files\n",
    "- SQL databases\n",
    "\n",
    "Full information on reading and writing is available in the pandas manual on [IO tools](https://pandas.pydata.org/pandas-docs/stable/user_guide/io.html).\n",
    "\n",
    "For now, we keep it simple and work with comma-separated-value (CSV) files and use the function [`read_csv`](https://pandas.pydata.org/pandas-docs/stable/reference/api/pandas.read_csv.html):"
   ]
  },
  {
   "cell_type": "code",
   "execution_count": 2,
   "id": "expanded-exhibition",
   "metadata": {},
   "outputs": [],
   "source": [
    "rain = pd.read_csv(\"rain.csv\")  # TODO update to URL"
   ]
  },
  {
   "cell_type": "markdown",
   "id": "occupied-invention",
   "metadata": {},
   "source": [
    "This gives us the data from the file as a type of object called a `DataFrame`. This is the core of Pandas and we will be exploring many of the things that it can do throughout this course."
   ]
  },
  {
   "cell_type": "markdown",
   "id": "infectious-dance",
   "metadata": {},
   "source": [
    "We can get Jupyter to display the data by putting the variable name in a cell by itself:"
   ]
  },
  {
   "cell_type": "code",
   "execution_count": 3,
   "id": "desperate-patio",
   "metadata": {},
   "outputs": [
    {
     "data": {
      "text/html": [
       "<div>\n",
       "<style scoped>\n",
       "    .dataframe tbody tr th:only-of-type {\n",
       "        vertical-align: middle;\n",
       "    }\n",
       "\n",
       "    .dataframe tbody tr th {\n",
       "        vertical-align: top;\n",
       "    }\n",
       "\n",
       "    .dataframe thead th {\n",
       "        text-align: right;\n",
       "    }\n",
       "</style>\n",
       "<table border=\"1\" class=\"dataframe\">\n",
       "  <thead>\n",
       "    <tr style=\"text-align: right;\">\n",
       "      <th></th>\n",
       "      <th>Cardiff</th>\n",
       "      <th>Stornoway</th>\n",
       "      <th>Oxford</th>\n",
       "      <th>Armagh</th>\n",
       "    </tr>\n",
       "  </thead>\n",
       "  <tbody>\n",
       "    <tr>\n",
       "      <th>1853</th>\n",
       "      <td>NaN</td>\n",
       "      <td>NaN</td>\n",
       "      <td>57.7</td>\n",
       "      <td>53.0</td>\n",
       "    </tr>\n",
       "    <tr>\n",
       "      <th>1854</th>\n",
       "      <td>NaN</td>\n",
       "      <td>NaN</td>\n",
       "      <td>37.5</td>\n",
       "      <td>69.8</td>\n",
       "    </tr>\n",
       "    <tr>\n",
       "      <th>1855</th>\n",
       "      <td>NaN</td>\n",
       "      <td>NaN</td>\n",
       "      <td>53.4</td>\n",
       "      <td>50.2</td>\n",
       "    </tr>\n",
       "    <tr>\n",
       "      <th>1856</th>\n",
       "      <td>NaN</td>\n",
       "      <td>NaN</td>\n",
       "      <td>57.2</td>\n",
       "      <td>55.0</td>\n",
       "    </tr>\n",
       "    <tr>\n",
       "      <th>1857</th>\n",
       "      <td>NaN</td>\n",
       "      <td>NaN</td>\n",
       "      <td>61.3</td>\n",
       "      <td>64.6</td>\n",
       "    </tr>\n",
       "    <tr>\n",
       "      <th>...</th>\n",
       "      <td>...</td>\n",
       "      <td>...</td>\n",
       "      <td>...</td>\n",
       "      <td>...</td>\n",
       "    </tr>\n",
       "    <tr>\n",
       "      <th>2016</th>\n",
       "      <td>99.3</td>\n",
       "      <td>100.0</td>\n",
       "      <td>54.8</td>\n",
       "      <td>61.4</td>\n",
       "    </tr>\n",
       "    <tr>\n",
       "      <th>2017</th>\n",
       "      <td>85.0</td>\n",
       "      <td>103.1</td>\n",
       "      <td>48.1</td>\n",
       "      <td>60.7</td>\n",
       "    </tr>\n",
       "    <tr>\n",
       "      <th>2018</th>\n",
       "      <td>99.3</td>\n",
       "      <td>96.8</td>\n",
       "      <td>48.9</td>\n",
       "      <td>67.6</td>\n",
       "    </tr>\n",
       "    <tr>\n",
       "      <th>2019</th>\n",
       "      <td>119.0</td>\n",
       "      <td>105.6</td>\n",
       "      <td>60.5</td>\n",
       "      <td>72.7</td>\n",
       "    </tr>\n",
       "    <tr>\n",
       "      <th>2020</th>\n",
       "      <td>117.6</td>\n",
       "      <td>121.1</td>\n",
       "      <td>64.2</td>\n",
       "      <td>71.3</td>\n",
       "    </tr>\n",
       "  </tbody>\n",
       "</table>\n",
       "<p>168 rows × 4 columns</p>\n",
       "</div>"
      ],
      "text/plain": [
       "      Cardiff  Stornoway  Oxford  Armagh\n",
       "1853      NaN        NaN    57.7    53.0\n",
       "1854      NaN        NaN    37.5    69.8\n",
       "1855      NaN        NaN    53.4    50.2\n",
       "1856      NaN        NaN    57.2    55.0\n",
       "1857      NaN        NaN    61.3    64.6\n",
       "...       ...        ...     ...     ...\n",
       "2016     99.3      100.0    54.8    61.4\n",
       "2017     85.0      103.1    48.1    60.7\n",
       "2018     99.3       96.8    48.9    67.6\n",
       "2019    119.0      105.6    60.5    72.7\n",
       "2020    117.6      121.1    64.2    71.3\n",
       "\n",
       "[168 rows x 4 columns]"
      ]
     },
     "execution_count": 3,
     "metadata": {},
     "output_type": "execute_result"
    }
   ],
   "source": [
    "rain"
   ]
  },
  {
   "cell_type": "markdown",
   "id": "alive-layout",
   "metadata": {},
   "source": [
    "So a `DataFrame` is a table of data, it has columns and rows. In this particular case, the data are the total monthly rainfall (in mm), averaged over each year for each of four cities.\n",
    "\n",
    "We can see there are a few key parts of the output:\n",
    "\n",
    "- Down the left-hand side in bold is the *index*. These can be thought of as being like row numbers, but can be more informational. In this case they are the year that the data refers to.\n",
    "\n",
    "- Along the top are the column names. When we want to refer to a particular column in our `DataFrame`, we will use these names.\n",
    "\n",
    "- The actual data is then arrayed in the middle of the table. Mostly these are data that we care about, but you will also see some `NaN`s in there as well. This is how Pandas represents *missing data*, in this case years for which there are no measurements."
   ]
  },
  {
   "cell_type": "markdown",
   "id": "copyrighted-desktop",
   "metadata": {
    "tags": [
     "exercise"
    ]
   },
   "source": [
    "### Exercise 1\n",
    "\n",
    "Replicate what I have done above by reading in the data file containing the rainfall (`rain.csv`) into a variable called `rain` and displaying it as a table."
   ]
  },
  {
   "cell_type": "markdown",
   "id": "provincial-gauge",
   "metadata": {},
   "source": [
    "## Data Analysis"
   ]
  },
  {
   "cell_type": "markdown",
   "id": "soviet-mailing",
   "metadata": {},
   "source": [
    "Once we have our data, we can start asking questions of it. For example, if we want to find the mean rainfall for each column, we can call the `mean()` method on `rain`:"
   ]
  },
  {
   "cell_type": "code",
   "execution_count": 4,
   "id": "vulnerable-yellow",
   "metadata": {},
   "outputs": [
    {
     "data": {
      "text/plain": [
       "Cardiff       97.400000\n",
       "Stornoway    100.316892\n",
       "Oxford        54.787500\n",
       "Armagh        68.803571\n",
       "dtype: float64"
      ]
     },
     "execution_count": 4,
     "metadata": {},
     "output_type": "execute_result"
    }
   ],
   "source": [
    "rain.mean()"
   ]
  },
  {
   "cell_type": "markdown",
   "id": "representative-sympathy",
   "metadata": {},
   "source": [
    "It is also possible to dive into the details of the data a bit more. We can ask for how many years was the average rainfall above 100 mm for each city:"
   ]
  },
  {
   "cell_type": "code",
   "execution_count": 5,
   "id": "imperial-trader",
   "metadata": {},
   "outputs": [
    {
     "data": {
      "text/plain": [
       "Cardiff      13\n",
       "Stornoway    74\n",
       "Oxford        0\n",
       "Armagh        1\n",
       "dtype: int64"
      ]
     },
     "execution_count": 5,
     "metadata": {},
     "output_type": "execute_result"
    }
   ],
   "source": [
    "rain[rain > 100].count()"
   ]
  },
  {
   "cell_type": "markdown",
   "id": "agricultural-trail",
   "metadata": {},
   "source": [
    "Don't worry about the exact syntax for the line above, we'll be covering this later in the course."
   ]
  },
  {
   "cell_type": "markdown",
   "id": "specified-headline",
   "metadata": {},
   "source": [
    "You can also extract a single column using Python's square bracket indexing syntax:"
   ]
  },
  {
   "cell_type": "code",
   "execution_count": 6,
   "id": "reliable-anime",
   "metadata": {},
   "outputs": [],
   "source": [
    "cardiff_rain = rain[\"Cardiff\"]"
   ]
  },
  {
   "cell_type": "code",
   "execution_count": 7,
   "id": "waiting-popularity",
   "metadata": {},
   "outputs": [
    {
     "data": {
      "text/plain": [
       "1853      NaN\n",
       "1854      NaN\n",
       "1855      NaN\n",
       "1856      NaN\n",
       "1857      NaN\n",
       "        ...  \n",
       "2016     99.3\n",
       "2017     85.0\n",
       "2018     99.3\n",
       "2019    119.0\n",
       "2020    117.6\n",
       "Name: Cardiff, Length: 168, dtype: float64"
      ]
     },
     "execution_count": 7,
     "metadata": {},
     "output_type": "execute_result"
    }
   ],
   "source": [
    "cardiff_rain"
   ]
  },
  {
   "cell_type": "markdown",
   "id": "proper-judgment",
   "metadata": {
    "tags": [
     "exercise"
    ]
   },
   "source": [
    "### Exercise 2\n",
    "\n",
    "Find the *maximum* rainfall value for each city.\n",
    "\n",
    "Hint: Look at the [documentation for the `DataFrame` type](https://pandas.pydata.org/pandas-docs/stable/reference/api/pandas.DataFrame.html). There's a function which works in the same way as `mean()`.\n",
    "\n",
    "[<small>answer</small>](answer_pandas_max_rain.ipynb)"
   ]
  },
  {
   "cell_type": "markdown",
   "id": "characteristic-bowling",
   "metadata": {},
   "source": [
    "## Plotting data"
   ]
  },
  {
   "cell_type": "markdown",
   "id": "incoming-concord",
   "metadata": {},
   "source": [
    "Pandas provides some built-in methods for producing simple plots of your data. Using the `plot()` method on a `DataFrame` (along with specifying the x- and y-axis labels) can be done directly."
   ]
  },
  {
   "cell_type": "code",
   "execution_count": 8,
   "id": "permanent-korea",
   "metadata": {},
   "outputs": [
    {
     "data": {
      "text/plain": [
       "<AxesSubplot:xlabel='Date', ylabel='Average monthly rainfall (mm)'>"
      ]
     },
     "execution_count": 8,
     "metadata": {},
     "output_type": "execute_result"
    },
    {
     "data": {
      "image/png": "[encoded data removed]",
      "text/plain": [
       "<Figure size 432x288 with 1 Axes>"
      ]
     },
     "metadata": {
      "needs_background": "light"
     },
     "output_type": "display_data"
    }
   ],
   "source": [
    "rain.plot(xlabel=\"Date\", ylabel=\"Average monthly rainfall (mm)\")"
   ]
  },
  {
   "cell_type": "markdown",
   "id": "unknown-salad",
   "metadata": {
    "tags": [
     "exercise"
    ]
   },
   "source": [
    "### Exercise 3\n",
    "\n",
    "Create a plot of the data for just Cardiff.\n",
    "\n",
    "Hint: You already have an object containing the data for Cardiff. Try using it in the same way as `rain` was used when plotting above.\n",
    "\n",
    "[<small>answer</small>](answer_pandas_plot_cardiff.ipynb)"
   ]
  },
  {
   "cell_type": "markdown",
   "id": "iraqi-middle",
   "metadata": {},
   "source": [
    "Over the next few chapters we will dive into more detail on each of the topics we've covered on this page."
   ]
  }
 ],
 "metadata": {
  "kernelspec": {
   "display_name": "Python 3",
   "language": "python",
   "name": "python3"
  },
  "language_info": {
   "codemirror_mode": {
    "name": "ipython",
    "version": 3
   },
   "file_extension": ".py",
   "mimetype": "text/x-python",
   "name": "python",
   "nbconvert_exporter": "python",
   "pygments_lexer": "ipython3",
   "version": "3.8.8"
  }
 },
 "nbformat": 4,
 "nbformat_minor": 5
}
