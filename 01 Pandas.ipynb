{
 "cells": [
  {
   "cell_type": "markdown",
   "id": "bright-dover",
   "metadata": {},
   "source": [
    "# Introduction to Pandas\n",
    "\n",
    "Pandas is a Python library providing high-performance, easy-to-use data structures and data analysis tools. Pandas provides easy and powerful ways to import data from a variety of sources and export it to just as many. It is also explicitly designed to handle *missing data* elegantly which is a very common problem in data from the real world.\n",
    "\n",
    "It can be used to perform the same tasks that you might use spreadsheets such as Excel for: columns of data being combined together with functions being applied to them and finally being displayed as a graph.\n",
    "\n",
    "The official [pandas documentation](http://pandas.pydata.org/pandas-docs/stable/) is very comprehensive and you will be able to answer a lot of questions in there, however, it can sometimes be hard to find the right page. Don't be afraid to use Google to find help."
   ]
  },
  {
   "cell_type": "markdown",
   "id": "3e8270fc-6a29-4fae-9505-eb958f9d9769",
   "metadata": {},
   "source": [
    "Most data analyses will follow a similar series of steps which we will go through in this course:"
   ]
  },
  {
   "cell_type": "markdown",
   "id": "f547471a-88a4-4ee1-aefa-6f41bfc38621",
   "metadata": {
    "tags": []
   },
   "source": [
    "<div class=\"contents-grid\">\n",
    "    <div class=\"grid-icon\"><img src=\"pipeline1.svg\" width=\"100%\"></div>\n",
    "    <div class=\"grid-text\">\n",
    "        <p>\n",
    "            The first step of any data analysis is getting hold of some data.\n",
    "            This may be data you've collected yourself or perhaps from some external source.\n",
    "        </p>\n",
    "        <p>\n",
    "            Pandas provides you with the tools you need to read in a variety of different formats and to deal with the data cleaning that inevitably will be required in the real world.\n",
    "        </p>\n",
    "    </div>\n",
    "    <div class=\"grid-arrow\"><img src=\"down_arrow.svg\" width=\"100%\"></div>\n",
    "    <div class=\"grid-text\"></div>\n",
    "    <div class=\"grid-item\"><img src=\"pipeline2.svg\" width=\"100%\"></div>\n",
    "    <div class=\"grid-text\">\n",
    "        <p>Pandas provides us with all the tools we need to be able to select, query, filter and combine our data.</p>\n",
    "        <p>We will start with the basics of selcting our data and then move on to more complex selections and how to ask questions of your data.</p>\n",
    "    </div>\n",
    "    <div class=\"grid-arrow\"><img src=\"down_arrow.svg\" width=\"100%\"></div>\n",
    "    <div class=\"grid-text\"></div>\n",
    "    <div class=\"grid-icon\"><img src=\"pipeline3.svg\" width=\"100%\"></div>\n",
    "    <div class=\"grid-text\">\n",
    "        <p>\n",
    "            Working with raw data will only get you so far.\n",
    "            At the end we will learn how we can visualise our data with graphs and plot to communicate our results best.\n",
    "        </p>\n",
    "    </div>\n",
    "</div> "
   ]
  }
 ],
 "metadata": {
  "kernelspec": {
   "display_name": "Python 3 (ipykernel)",
   "language": "python",
   "name": "python3"
  },
  "language_info": {
   "codemirror_mode": {
    "name": "ipython",
    "version": 3
   },
   "file_extension": ".py",
   "mimetype": "text/x-python",
   "name": "python",
   "nbconvert_exporter": "python",
   "pygments_lexer": "ipython3",
   "version": "3.10.10"
  }
 },
 "nbformat": 4,
 "nbformat_minor": 5
}
