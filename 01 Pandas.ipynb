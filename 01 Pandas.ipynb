{
 "cells": [
  {
   "cell_type": "markdown",
   "id": "utility-mention",
   "metadata": {},
   "source": [
    "# Introduction to Pandas\n",
    "\n",
    "Pandas is a library providing high-performance, easy-to-use data structures and data analysis tools. The core of pandas is its *dataframe* which is essentially a table of data. Pandas provides easy and powerful ways to import data from a variety of sources and export it to just as many. It is also explicitly designed to handle *missing data* elegantly which is a very common problem in data from the real world.\n",
    "\n",
    "The offical [pandas documentation](http://pandas.pydata.org/pandas-docs/stable/) is very comprehensive and you will be able to answer a lot of questions in there, however, it can sometimes be hard to find the right page. Don't be afraid to use Google to find help."
   ]
  },
  {
   "cell_type": "markdown",
   "id": "local-three",
   "metadata": {},
   "source": [
    "Most likely you already have some data you want to read in so let's see how we can use Pandas to read a file, ask some questions of it and plot the results."
   ]
  },
  {
   "cell_type": "markdown",
   "id": "failing-airline",
   "metadata": {},
   "source": [
    "## Reading in data"
   ]
  },
  {
   "cell_type": "markdown",
   "id": "diverse-walker",
   "metadata": {},
   "source": [
    "Pandas is not a core part of Python, but is a very commonly used 3rd-party package. If you have installed Python using Anaconda then it is bundled as part of it.\n",
    "\n",
    "You can get access to Pandas by importing the `pandas` module. By convention, it is imported as `pd`:"
   ]
  },
  {
   "cell_type": "code",
   "execution_count": 1,
   "id": "narrative-passing",
   "metadata": {},
   "outputs": [],
   "source": [
    "import pandas as pd"
   ]
  },
  {
   "cell_type": "markdown",
   "id": "concerned-regression",
   "metadata": {},
   "source": [
    "Pandas provides functionality for reading in all sorts of file formats, including:\n",
    "- Comma separated tables (or tab-separated or space-separated etc.)\n",
    "- Excel spreadsheets\n",
    "- HDF5 files\n",
    "- SQL databases\n",
    "\n",
    "Full information on reading and writing is available in the pandas manual on [IO tools](https://pandas.pydata.org/pandas-docs/stable/user_guide/io.html).\n",
    "\n",
    "For now, we keep it simple and work with comma-separated-value (CSV) files and use the function [`read_csv`](https://pandas.pydata.org/pandas-docs/stable/reference/api/pandas.read_csv.html):"
   ]
  },
  {
   "cell_type": "code",
   "execution_count": 2,
   "id": "executive-corner",
   "metadata": {},
   "outputs": [],
   "source": [
    "rain = pd.read_csv(\"rain.csv\")"
   ]
  },
  {
   "cell_type": "markdown",
   "id": "charming-beast",
   "metadata": {},
   "source": [
    "This gives us the data from the file as a type of object called a `DataFrame`. This is the core of Pandas and we will be exploring all the things that it can do throughout this course."
   ]
  },
  {
   "cell_type": "markdown",
   "id": "acting-workshop",
   "metadata": {},
   "source": [
    "We can get Jupyter to display the table by putting the variable name in a cell by itself:"
   ]
  },
  {
   "cell_type": "code",
   "execution_count": 3,
   "id": "textile-decade",
   "metadata": {},
   "outputs": [
    {
     "data": {
      "text/html": [
       "<div>\n",
       "<style scoped>\n",
       "    .dataframe tbody tr th:only-of-type {\n",
       "        vertical-align: middle;\n",
       "    }\n",
       "\n",
       "    .dataframe tbody tr th {\n",
       "        vertical-align: top;\n",
       "    }\n",
       "\n",
       "    .dataframe thead th {\n",
       "        text-align: right;\n",
       "    }\n",
       "</style>\n",
       "<table border=\"1\" class=\"dataframe\">\n",
       "  <thead>\n",
       "    <tr style=\"text-align: right;\">\n",
       "      <th></th>\n",
       "      <th>Cardiff</th>\n",
       "      <th>Stornoway</th>\n",
       "      <th>Oxford</th>\n",
       "      <th>Armagh</th>\n",
       "    </tr>\n",
       "  </thead>\n",
       "  <tbody>\n",
       "    <tr>\n",
       "      <th>1853</th>\n",
       "      <td>NaN</td>\n",
       "      <td>NaN</td>\n",
       "      <td>57.7</td>\n",
       "      <td>53.0</td>\n",
       "    </tr>\n",
       "    <tr>\n",
       "      <th>1854</th>\n",
       "      <td>NaN</td>\n",
       "      <td>NaN</td>\n",
       "      <td>37.5</td>\n",
       "      <td>69.8</td>\n",
       "    </tr>\n",
       "    <tr>\n",
       "      <th>1855</th>\n",
       "      <td>NaN</td>\n",
       "      <td>NaN</td>\n",
       "      <td>53.4</td>\n",
       "      <td>50.2</td>\n",
       "    </tr>\n",
       "    <tr>\n",
       "      <th>1856</th>\n",
       "      <td>NaN</td>\n",
       "      <td>NaN</td>\n",
       "      <td>57.2</td>\n",
       "      <td>55.0</td>\n",
       "    </tr>\n",
       "    <tr>\n",
       "      <th>1857</th>\n",
       "      <td>NaN</td>\n",
       "      <td>NaN</td>\n",
       "      <td>61.3</td>\n",
       "      <td>64.6</td>\n",
       "    </tr>\n",
       "    <tr>\n",
       "      <th>...</th>\n",
       "      <td>...</td>\n",
       "      <td>...</td>\n",
       "      <td>...</td>\n",
       "      <td>...</td>\n",
       "    </tr>\n",
       "    <tr>\n",
       "      <th>2016</th>\n",
       "      <td>99.3</td>\n",
       "      <td>100.0</td>\n",
       "      <td>54.8</td>\n",
       "      <td>61.4</td>\n",
       "    </tr>\n",
       "    <tr>\n",
       "      <th>2017</th>\n",
       "      <td>85.0</td>\n",
       "      <td>103.1</td>\n",
       "      <td>48.1</td>\n",
       "      <td>60.7</td>\n",
       "    </tr>\n",
       "    <tr>\n",
       "      <th>2018</th>\n",
       "      <td>99.3</td>\n",
       "      <td>96.8</td>\n",
       "      <td>48.9</td>\n",
       "      <td>67.6</td>\n",
       "    </tr>\n",
       "    <tr>\n",
       "      <th>2019</th>\n",
       "      <td>119.0</td>\n",
       "      <td>105.6</td>\n",
       "      <td>60.5</td>\n",
       "      <td>72.7</td>\n",
       "    </tr>\n",
       "    <tr>\n",
       "      <th>2020</th>\n",
       "      <td>117.6</td>\n",
       "      <td>121.1</td>\n",
       "      <td>64.2</td>\n",
       "      <td>71.3</td>\n",
       "    </tr>\n",
       "  </tbody>\n",
       "</table>\n",
       "<p>168 rows × 4 columns</p>\n",
       "</div>"
      ],
      "text/plain": [
       "      Cardiff  Stornoway  Oxford  Armagh\n",
       "1853      NaN        NaN    57.7    53.0\n",
       "1854      NaN        NaN    37.5    69.8\n",
       "1855      NaN        NaN    53.4    50.2\n",
       "1856      NaN        NaN    57.2    55.0\n",
       "1857      NaN        NaN    61.3    64.6\n",
       "...       ...        ...     ...     ...\n",
       "2016     99.3      100.0    54.8    61.4\n",
       "2017     85.0      103.1    48.1    60.7\n",
       "2018     99.3       96.8    48.9    67.6\n",
       "2019    119.0      105.6    60.5    72.7\n",
       "2020    117.6      121.1    64.2    71.3\n",
       "\n",
       "[168 rows x 4 columns]"
      ]
     },
     "execution_count": 3,
     "metadata": {},
     "output_type": "execute_result"
    }
   ],
   "source": [
    "rain"
   ]
  },
  {
   "cell_type": "markdown",
   "id": "british-ceramic",
   "metadata": {},
   "source": [
    "We can see there are a few key parts of the output.\n",
    "\n",
    "Down the left-hand side in bold is the *index*. These can be thought of as like being row numbers, but can be more informational. In this case they are the year that the data refers to.\n",
    "\n",
    "Along the top are the column names. When we want to refer to a particular column in our `DataFrame`, we will use these names.\n",
    "\n",
    "The actual data is then arrayed in the middle of the table. Mostly these are data that we care about, but you will also see some `NaN`s in there as well. This is how Pandas represents *missing data*, in this case years for which there are no measurements."
   ]
  },
  {
   "cell_type": "markdown",
   "id": "interesting-celtic",
   "metadata": {
    "tags": [
     "exercise"
    ]
   },
   "source": [
    "### Exercise\n",
    "\n",
    "Read in the data file containing the rainfall into a varaible called `rain` and display it as a table as shown above."
   ]
  },
  {
   "cell_type": "markdown",
   "id": "italian-outline",
   "metadata": {},
   "source": [
    "## Data Analysis"
   ]
  },
  {
   "cell_type": "markdown",
   "id": "anonymous-gallery",
   "metadata": {},
   "source": [
    "Once we have our data, we can start asking questions of it. For example, if we want to find the mean annual rainfall for each column, we can call the `mean()` method on `rain`:"
   ]
  },
  {
   "cell_type": "code",
   "execution_count": 4,
   "id": "appropriate-improvement",
   "metadata": {},
   "outputs": [
    {
     "data": {
      "text/plain": [
       "Cardiff       97.400000\n",
       "Stornoway    100.316892\n",
       "Oxford        54.787500\n",
       "Armagh        68.803571\n",
       "dtype: float64"
      ]
     },
     "execution_count": 4,
     "metadata": {},
     "output_type": "execute_result"
    }
   ],
   "source": [
    "rain.mean()"
   ]
  },
  {
   "cell_type": "markdown",
   "id": "understood-playlist",
   "metadata": {},
   "source": [
    "It is also possible to dive into the details of the data a bit more. We can ask for how many years was the average rainfall above 100 mm for each city:"
   ]
  },
  {
   "cell_type": "code",
   "execution_count": 5,
   "id": "early-forth",
   "metadata": {},
   "outputs": [
    {
     "data": {
      "text/plain": [
       "Cardiff      13\n",
       "Stornoway    74\n",
       "Oxford        0\n",
       "Armagh        1\n",
       "dtype: int64"
      ]
     },
     "execution_count": 5,
     "metadata": {},
     "output_type": "execute_result"
    }
   ],
   "source": [
    "rain[rain > 100].count()"
   ]
  },
  {
   "cell_type": "markdown",
   "id": "hearing-naples",
   "metadata": {},
   "source": [
    "Don't worry about the exact syntax for the line above, we'll be covering this later in the course."
   ]
  },
  {
   "cell_type": "markdown",
   "id": "combined-comfort",
   "metadata": {},
   "source": [
    "You can also extract out a single column using Python's square bracket indexing syntax:"
   ]
  },
  {
   "cell_type": "code",
   "execution_count": 6,
   "id": "utility-region",
   "metadata": {},
   "outputs": [],
   "source": [
    "cardiff_rain = rain[\"Cardiff\"]"
   ]
  },
  {
   "cell_type": "code",
   "execution_count": 8,
   "id": "endangered-medium",
   "metadata": {},
   "outputs": [
    {
     "data": {
      "text/plain": [
       "1853      NaN\n",
       "1854      NaN\n",
       "1855      NaN\n",
       "1856      NaN\n",
       "1857      NaN\n",
       "        ...  \n",
       "2016     99.3\n",
       "2017     85.0\n",
       "2018     99.3\n",
       "2019    119.0\n",
       "2020    117.6\n",
       "Name: Cardiff, Length: 168, dtype: float64"
      ]
     },
     "execution_count": 8,
     "metadata": {},
     "output_type": "execute_result"
    }
   ],
   "source": [
    "cardiff_rain"
   ]
  },
  {
   "cell_type": "markdown",
   "id": "capital-wealth",
   "metadata": {
    "tags": [
     "exercise"
    ]
   },
   "source": [
    "### Exercise\n",
    "\n",
    "Find the *maximum* annual mean rainfall for each city.\n",
    "\n",
    "Hint: Look at the [documentation for the `DataFrame` type](https://pandas.pydata.org/pandas-docs/stable/reference/api/pandas.DataFrame.html). There's a function which works in the same way as `mean()`."
   ]
  },
  {
   "cell_type": "markdown",
   "id": "responsible-conflict",
   "metadata": {},
   "source": [
    "## Plotting data"
   ]
  },
  {
   "cell_type": "markdown",
   "id": "ordered-syndrome",
   "metadata": {},
   "source": [
    "Pandas provides some built-in methods for producing simple plots of your data. Using the `plot()` method on a `DataFrame` (along with specifying the x- and y-axis labels) can be done directly:"
   ]
  },
  {
   "cell_type": "code",
   "execution_count": 7,
   "id": "finnish-surgery",
   "metadata": {},
   "outputs": [
    {
     "data": {
      "text/plain": [
       "<AxesSubplot:xlabel='Date', ylabel='Rainfall (mm)'>"
      ]
     },
     "execution_count": 7,
     "metadata": {},
     "output_type": "execute_result"
    },
    {
     "data": {
      "image/png": "[encoded data removed]",
      "text/plain": [
       "<Figure size 432x288 with 1 Axes>"
      ]
     },
     "metadata": {
      "needs_background": "light"
     },
     "output_type": "display_data"
    }
   ],
   "source": [
    "cardiff_rain.plot(xlabel=\"Date\", ylabel=\"Rainfall (mm)\")"
   ]
  },
  {
   "cell_type": "markdown",
   "id": "unique-flush",
   "metadata": {
    "tags": [
     "exercise"
    ]
   },
   "source": [
    "### Exercise\n",
    "\n",
    "Create a plot of the whole `rain` data set. You should see a separate line trace for each city."
   ]
  },
  {
   "cell_type": "markdown",
   "id": "normal-ghost",
   "metadata": {},
   "source": [
    "Over the next few chapters we will dive into more detail on each of the topics we've covered on this page."
   ]
  }
 ],
 "metadata": {
  "kernelspec": {
   "display_name": "Python 3",
   "language": "python",
   "name": "python3"
  },
  "language_info": {
   "codemirror_mode": {
    "name": "ipython",
    "version": 3
   },
   "file_extension": ".py",
   "mimetype": "text/x-python",
   "name": "python",
   "nbconvert_exporter": "python",
   "pygments_lexer": "ipython3",
   "version": "3.8.6"
  }
 },
 "nbformat": 4,
 "nbformat_minor": 5
}
