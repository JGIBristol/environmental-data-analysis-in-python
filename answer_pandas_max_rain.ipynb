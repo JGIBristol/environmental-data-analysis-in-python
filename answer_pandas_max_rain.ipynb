{
 "cells": [
  {
   "cell_type": "code",
   "execution_count": 1,
   "id": "korean-incentive",
   "metadata": {},
   "outputs": [],
   "source": [
    "import pandas as pd\n",
    "rain = pd.read_csv(\"https://milliams.com/courses/data_analysis_python/rain.csv\")"
   ]
  },
  {
   "cell_type": "code",
   "execution_count": 2,
   "id": "proud-creativity",
   "metadata": {},
   "outputs": [
    {
     "data": {
      "text/plain": [
       "Cardiff      125.4\n",
       "Stornoway    151.6\n",
       "Oxford        82.0\n",
       "Armagh       104.1\n",
       "dtype: float64"
      ]
     },
     "execution_count": 2,
     "metadata": {},
     "output_type": "execute_result"
    }
   ],
   "source": [
    "rain.max()"
   ]
  }
 ],
 "metadata": {
  "kernelspec": {
   "display_name": "Python 3",
   "language": "python",
   "name": "python3"
  },
  "language_info": {
   "codemirror_mode": {
    "name": "ipython",
    "version": 3
   },
   "file_extension": ".py",
   "mimetype": "text/x-python",
   "name": "python",
   "nbconvert_exporter": "python",
   "pygments_lexer": "ipython3",
   "version": "3.8.8"
  }
 },
 "nbformat": 4,
 "nbformat_minor": 5
}
