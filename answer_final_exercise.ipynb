{
 "cells": [
  {
   "cell_type": "markdown",
   "id": "enormous-amber",
   "metadata": {},
   "source": [
    "# Example answers for final exercise"
   ]
  },
  {
   "cell_type": "code",
   "execution_count": 1,
   "id": "interpreted-handle",
   "metadata": {},
   "outputs": [
    {
     "data": {
      "text/html": [
       "<div>\n",
       "<style scoped>\n",
       "    .dataframe tbody tr th:only-of-type {\n",
       "        vertical-align: middle;\n",
       "    }\n",
       "\n",
       "    .dataframe tbody tr th {\n",
       "        vertical-align: top;\n",
       "    }\n",
       "\n",
       "    .dataframe thead th {\n",
       "        text-align: right;\n",
       "    }\n",
       "</style>\n",
       "<table border=\"1\" class=\"dataframe\">\n",
       "  <thead>\n",
       "    <tr style=\"text-align: right;\">\n",
       "      <th></th>\n",
       "      <th>name</th>\n",
       "      <th>gender</th>\n",
       "      <th>age</th>\n",
       "      <th>class</th>\n",
       "      <th>embarked</th>\n",
       "      <th>country</th>\n",
       "      <th>ticketno</th>\n",
       "      <th>fare</th>\n",
       "      <th>sibsp</th>\n",
       "      <th>parch</th>\n",
       "      <th>survived</th>\n",
       "    </tr>\n",
       "  </thead>\n",
       "  <tbody>\n",
       "    <tr>\n",
       "      <th>0</th>\n",
       "      <td>Abbing, Mr. Anthony</td>\n",
       "      <td>male</td>\n",
       "      <td>42.0</td>\n",
       "      <td>3rd</td>\n",
       "      <td>S</td>\n",
       "      <td>United States</td>\n",
       "      <td>5547.0</td>\n",
       "      <td>7.11</td>\n",
       "      <td>0.0</td>\n",
       "      <td>0.0</td>\n",
       "      <td>no</td>\n",
       "    </tr>\n",
       "    <tr>\n",
       "      <th>1</th>\n",
       "      <td>Abbott, Mr. Eugene Joseph</td>\n",
       "      <td>male</td>\n",
       "      <td>13.0</td>\n",
       "      <td>3rd</td>\n",
       "      <td>S</td>\n",
       "      <td>United States</td>\n",
       "      <td>2673.0</td>\n",
       "      <td>20.05</td>\n",
       "      <td>0.0</td>\n",
       "      <td>2.0</td>\n",
       "      <td>no</td>\n",
       "    </tr>\n",
       "    <tr>\n",
       "      <th>2</th>\n",
       "      <td>Abbott, Mr. Rossmore Edward</td>\n",
       "      <td>male</td>\n",
       "      <td>16.0</td>\n",
       "      <td>3rd</td>\n",
       "      <td>S</td>\n",
       "      <td>United States</td>\n",
       "      <td>2673.0</td>\n",
       "      <td>20.05</td>\n",
       "      <td>1.0</td>\n",
       "      <td>1.0</td>\n",
       "      <td>no</td>\n",
       "    </tr>\n",
       "    <tr>\n",
       "      <th>3</th>\n",
       "      <td>Abbott, Mrs. Rhoda Mary 'Rosa'</td>\n",
       "      <td>female</td>\n",
       "      <td>39.0</td>\n",
       "      <td>3rd</td>\n",
       "      <td>S</td>\n",
       "      <td>England</td>\n",
       "      <td>2673.0</td>\n",
       "      <td>20.05</td>\n",
       "      <td>1.0</td>\n",
       "      <td>1.0</td>\n",
       "      <td>yes</td>\n",
       "    </tr>\n",
       "    <tr>\n",
       "      <th>4</th>\n",
       "      <td>Abelseth, Miss. Karen Marie</td>\n",
       "      <td>female</td>\n",
       "      <td>16.0</td>\n",
       "      <td>3rd</td>\n",
       "      <td>S</td>\n",
       "      <td>Norway</td>\n",
       "      <td>348125.0</td>\n",
       "      <td>7.13</td>\n",
       "      <td>0.0</td>\n",
       "      <td>0.0</td>\n",
       "      <td>yes</td>\n",
       "    </tr>\n",
       "    <tr>\n",
       "      <th>...</th>\n",
       "      <td>...</td>\n",
       "      <td>...</td>\n",
       "      <td>...</td>\n",
       "      <td>...</td>\n",
       "      <td>...</td>\n",
       "      <td>...</td>\n",
       "      <td>...</td>\n",
       "      <td>...</td>\n",
       "      <td>...</td>\n",
       "      <td>...</td>\n",
       "      <td>...</td>\n",
       "    </tr>\n",
       "    <tr>\n",
       "      <th>2202</th>\n",
       "      <td>Wynn, Mr. Walter</td>\n",
       "      <td>male</td>\n",
       "      <td>41.0</td>\n",
       "      <td>deck crew</td>\n",
       "      <td>B</td>\n",
       "      <td>England</td>\n",
       "      <td>NaN</td>\n",
       "      <td>NaN</td>\n",
       "      <td>NaN</td>\n",
       "      <td>NaN</td>\n",
       "      <td>yes</td>\n",
       "    </tr>\n",
       "    <tr>\n",
       "      <th>2203</th>\n",
       "      <td>Yearsley, Mr. Harry</td>\n",
       "      <td>male</td>\n",
       "      <td>40.0</td>\n",
       "      <td>victualling crew</td>\n",
       "      <td>S</td>\n",
       "      <td>England</td>\n",
       "      <td>NaN</td>\n",
       "      <td>NaN</td>\n",
       "      <td>NaN</td>\n",
       "      <td>NaN</td>\n",
       "      <td>yes</td>\n",
       "    </tr>\n",
       "    <tr>\n",
       "      <th>2204</th>\n",
       "      <td>Young, Mr. Francis James</td>\n",
       "      <td>male</td>\n",
       "      <td>32.0</td>\n",
       "      <td>engineering crew</td>\n",
       "      <td>S</td>\n",
       "      <td>England</td>\n",
       "      <td>NaN</td>\n",
       "      <td>NaN</td>\n",
       "      <td>NaN</td>\n",
       "      <td>NaN</td>\n",
       "      <td>no</td>\n",
       "    </tr>\n",
       "    <tr>\n",
       "      <th>2205</th>\n",
       "      <td>Zanetti, Sig. Minio</td>\n",
       "      <td>male</td>\n",
       "      <td>20.0</td>\n",
       "      <td>restaurant staff</td>\n",
       "      <td>S</td>\n",
       "      <td>England</td>\n",
       "      <td>NaN</td>\n",
       "      <td>NaN</td>\n",
       "      <td>NaN</td>\n",
       "      <td>NaN</td>\n",
       "      <td>no</td>\n",
       "    </tr>\n",
       "    <tr>\n",
       "      <th>2206</th>\n",
       "      <td>Zarracchi, Sig. L.</td>\n",
       "      <td>male</td>\n",
       "      <td>26.0</td>\n",
       "      <td>restaurant staff</td>\n",
       "      <td>S</td>\n",
       "      <td>England</td>\n",
       "      <td>NaN</td>\n",
       "      <td>NaN</td>\n",
       "      <td>NaN</td>\n",
       "      <td>NaN</td>\n",
       "      <td>no</td>\n",
       "    </tr>\n",
       "  </tbody>\n",
       "</table>\n",
       "<p>2207 rows × 11 columns</p>\n",
       "</div>"
      ],
      "text/plain": [
       "                                name  gender   age             class embarked   \n",
       "0                Abbing, Mr. Anthony    male  42.0               3rd        S  \\\n",
       "1          Abbott, Mr. Eugene Joseph    male  13.0               3rd        S   \n",
       "2        Abbott, Mr. Rossmore Edward    male  16.0               3rd        S   \n",
       "3     Abbott, Mrs. Rhoda Mary 'Rosa'  female  39.0               3rd        S   \n",
       "4        Abelseth, Miss. Karen Marie  female  16.0               3rd        S   \n",
       "...                              ...     ...   ...               ...      ...   \n",
       "2202                Wynn, Mr. Walter    male  41.0         deck crew        B   \n",
       "2203             Yearsley, Mr. Harry    male  40.0  victualling crew        S   \n",
       "2204        Young, Mr. Francis James    male  32.0  engineering crew        S   \n",
       "2205             Zanetti, Sig. Minio    male  20.0  restaurant staff        S   \n",
       "2206              Zarracchi, Sig. L.    male  26.0  restaurant staff        S   \n",
       "\n",
       "            country  ticketno   fare  sibsp  parch survived  \n",
       "0     United States    5547.0   7.11    0.0    0.0       no  \n",
       "1     United States    2673.0  20.05    0.0    2.0       no  \n",
       "2     United States    2673.0  20.05    1.0    1.0       no  \n",
       "3           England    2673.0  20.05    1.0    1.0      yes  \n",
       "4            Norway  348125.0   7.13    0.0    0.0      yes  \n",
       "...             ...       ...    ...    ...    ...      ...  \n",
       "2202        England       NaN    NaN    NaN    NaN      yes  \n",
       "2203        England       NaN    NaN    NaN    NaN      yes  \n",
       "2204        England       NaN    NaN    NaN    NaN       no  \n",
       "2205        England       NaN    NaN    NaN    NaN       no  \n",
       "2206        England       NaN    NaN    NaN    NaN       no  \n",
       "\n",
       "[2207 rows x 11 columns]"
      ]
     },
     "execution_count": 1,
     "metadata": {},
     "output_type": "execute_result"
    }
   ],
   "source": [
    "import pandas as pd\n",
    "import seaborn as sns\n",
    "titanic = pd.read_csv(\"https://milliams.com/courses/data_analysis_python/titanic.csv\")\n",
    "titanic"
   ]
  },
  {
   "cell_type": "markdown",
   "id": "abstract-legend",
   "metadata": {},
   "source": [
    "## Summarising\n",
    "\n",
    "### Find the average age of all people on board"
   ]
  },
  {
   "cell_type": "code",
   "execution_count": 2,
   "id": "handy-gregory",
   "metadata": {},
   "outputs": [
    {
     "data": {
      "text/plain": [
       "30.436734693877504"
      ]
     },
     "execution_count": 2,
     "metadata": {},
     "output_type": "execute_result"
    }
   ],
   "source": [
    "titanic[\"age\"].mean()"
   ]
  },
  {
   "cell_type": "markdown",
   "id": "perceived-effects",
   "metadata": {},
   "source": [
    "### Use a filter to select only the males"
   ]
  },
  {
   "cell_type": "code",
   "execution_count": 3,
   "id": "convenient-horizontal",
   "metadata": {},
   "outputs": [],
   "source": [
    "all_males = titanic[titanic[\"gender\"] == \"male\"]"
   ]
  },
  {
   "cell_type": "markdown",
   "id": "cooked-soccer",
   "metadata": {},
   "source": [
    "### Find the average age of the males on board"
   ]
  },
  {
   "cell_type": "code",
   "execution_count": 4,
   "id": "atomic-bikini",
   "metadata": {},
   "outputs": [
    {
     "data": {
      "text/plain": [
       "30.83231351981346"
      ]
     },
     "execution_count": 4,
     "metadata": {},
     "output_type": "execute_result"
    }
   ],
   "source": [
    "all_males[\"age\"].mean()"
   ]
  },
  {
   "cell_type": "markdown",
   "id": "invalid-corruption",
   "metadata": {},
   "source": [
    "## Filtering\n",
    "\n",
    "### Select on the people in 3<sup>rd</sup> class"
   ]
  },
  {
   "cell_type": "code",
   "execution_count": 5,
   "id": "accompanied-ideal",
   "metadata": {},
   "outputs": [
    {
     "data": {
      "text/html": [
       "<div>\n",
       "<style scoped>\n",
       "    .dataframe tbody tr th:only-of-type {\n",
       "        vertical-align: middle;\n",
       "    }\n",
       "\n",
       "    .dataframe tbody tr th {\n",
       "        vertical-align: top;\n",
       "    }\n",
       "\n",
       "    .dataframe thead th {\n",
       "        text-align: right;\n",
       "    }\n",
       "</style>\n",
       "<table border=\"1\" class=\"dataframe\">\n",
       "  <thead>\n",
       "    <tr style=\"text-align: right;\">\n",
       "      <th></th>\n",
       "      <th>name</th>\n",
       "      <th>gender</th>\n",
       "      <th>age</th>\n",
       "      <th>class</th>\n",
       "      <th>embarked</th>\n",
       "      <th>country</th>\n",
       "      <th>ticketno</th>\n",
       "      <th>fare</th>\n",
       "      <th>sibsp</th>\n",
       "      <th>parch</th>\n",
       "      <th>survived</th>\n",
       "    </tr>\n",
       "  </thead>\n",
       "  <tbody>\n",
       "    <tr>\n",
       "      <th>0</th>\n",
       "      <td>Abbing, Mr. Anthony</td>\n",
       "      <td>male</td>\n",
       "      <td>42.0</td>\n",
       "      <td>3rd</td>\n",
       "      <td>S</td>\n",
       "      <td>United States</td>\n",
       "      <td>5547.0</td>\n",
       "      <td>7.1100</td>\n",
       "      <td>0.0</td>\n",
       "      <td>0.0</td>\n",
       "      <td>no</td>\n",
       "    </tr>\n",
       "    <tr>\n",
       "      <th>1</th>\n",
       "      <td>Abbott, Mr. Eugene Joseph</td>\n",
       "      <td>male</td>\n",
       "      <td>13.0</td>\n",
       "      <td>3rd</td>\n",
       "      <td>S</td>\n",
       "      <td>United States</td>\n",
       "      <td>2673.0</td>\n",
       "      <td>20.0500</td>\n",
       "      <td>0.0</td>\n",
       "      <td>2.0</td>\n",
       "      <td>no</td>\n",
       "    </tr>\n",
       "    <tr>\n",
       "      <th>2</th>\n",
       "      <td>Abbott, Mr. Rossmore Edward</td>\n",
       "      <td>male</td>\n",
       "      <td>16.0</td>\n",
       "      <td>3rd</td>\n",
       "      <td>S</td>\n",
       "      <td>United States</td>\n",
       "      <td>2673.0</td>\n",
       "      <td>20.0500</td>\n",
       "      <td>1.0</td>\n",
       "      <td>1.0</td>\n",
       "      <td>no</td>\n",
       "    </tr>\n",
       "    <tr>\n",
       "      <th>3</th>\n",
       "      <td>Abbott, Mrs. Rhoda Mary 'Rosa'</td>\n",
       "      <td>female</td>\n",
       "      <td>39.0</td>\n",
       "      <td>3rd</td>\n",
       "      <td>S</td>\n",
       "      <td>England</td>\n",
       "      <td>2673.0</td>\n",
       "      <td>20.0500</td>\n",
       "      <td>1.0</td>\n",
       "      <td>1.0</td>\n",
       "      <td>yes</td>\n",
       "    </tr>\n",
       "    <tr>\n",
       "      <th>4</th>\n",
       "      <td>Abelseth, Miss. Karen Marie</td>\n",
       "      <td>female</td>\n",
       "      <td>16.0</td>\n",
       "      <td>3rd</td>\n",
       "      <td>S</td>\n",
       "      <td>Norway</td>\n",
       "      <td>348125.0</td>\n",
       "      <td>7.1300</td>\n",
       "      <td>0.0</td>\n",
       "      <td>0.0</td>\n",
       "      <td>yes</td>\n",
       "    </tr>\n",
       "    <tr>\n",
       "      <th>...</th>\n",
       "      <td>...</td>\n",
       "      <td>...</td>\n",
       "      <td>...</td>\n",
       "      <td>...</td>\n",
       "      <td>...</td>\n",
       "      <td>...</td>\n",
       "      <td>...</td>\n",
       "      <td>...</td>\n",
       "      <td>...</td>\n",
       "      <td>...</td>\n",
       "      <td>...</td>\n",
       "    </tr>\n",
       "    <tr>\n",
       "      <th>1313</th>\n",
       "      <td>Yūsuf, Mrs. Kātrīn</td>\n",
       "      <td>female</td>\n",
       "      <td>23.0</td>\n",
       "      <td>3rd</td>\n",
       "      <td>C</td>\n",
       "      <td>Lebanon</td>\n",
       "      <td>2668.0</td>\n",
       "      <td>22.0702</td>\n",
       "      <td>0.0</td>\n",
       "      <td>2.0</td>\n",
       "      <td>yes</td>\n",
       "    </tr>\n",
       "    <tr>\n",
       "      <th>1315</th>\n",
       "      <td>Zakarian, Mr. Mapriededer</td>\n",
       "      <td>male</td>\n",
       "      <td>22.0</td>\n",
       "      <td>3rd</td>\n",
       "      <td>C</td>\n",
       "      <td>Turkey</td>\n",
       "      <td>2656.0</td>\n",
       "      <td>7.0406</td>\n",
       "      <td>0.0</td>\n",
       "      <td>0.0</td>\n",
       "      <td>no</td>\n",
       "    </tr>\n",
       "    <tr>\n",
       "      <th>1316</th>\n",
       "      <td>Zakarian, Mr. Ortin</td>\n",
       "      <td>male</td>\n",
       "      <td>27.0</td>\n",
       "      <td>3rd</td>\n",
       "      <td>C</td>\n",
       "      <td>Turkey</td>\n",
       "      <td>2670.0</td>\n",
       "      <td>7.0406</td>\n",
       "      <td>0.0</td>\n",
       "      <td>0.0</td>\n",
       "      <td>no</td>\n",
       "    </tr>\n",
       "    <tr>\n",
       "      <th>1317</th>\n",
       "      <td>Zenni, Mr. Philip</td>\n",
       "      <td>male</td>\n",
       "      <td>25.0</td>\n",
       "      <td>3rd</td>\n",
       "      <td>C</td>\n",
       "      <td>Lebanon</td>\n",
       "      <td>2620.0</td>\n",
       "      <td>7.0406</td>\n",
       "      <td>0.0</td>\n",
       "      <td>0.0</td>\n",
       "      <td>yes</td>\n",
       "    </tr>\n",
       "    <tr>\n",
       "      <th>1318</th>\n",
       "      <td>Zimmermann, Mr. Leo</td>\n",
       "      <td>male</td>\n",
       "      <td>29.0</td>\n",
       "      <td>3rd</td>\n",
       "      <td>S</td>\n",
       "      <td>Germany</td>\n",
       "      <td>315082.0</td>\n",
       "      <td>7.1706</td>\n",
       "      <td>0.0</td>\n",
       "      <td>0.0</td>\n",
       "      <td>no</td>\n",
       "    </tr>\n",
       "  </tbody>\n",
       "</table>\n",
       "<p>709 rows × 11 columns</p>\n",
       "</div>"
      ],
      "text/plain": [
       "                                name  gender   age class embarked   \n",
       "0                Abbing, Mr. Anthony    male  42.0   3rd        S  \\\n",
       "1          Abbott, Mr. Eugene Joseph    male  13.0   3rd        S   \n",
       "2        Abbott, Mr. Rossmore Edward    male  16.0   3rd        S   \n",
       "3     Abbott, Mrs. Rhoda Mary 'Rosa'  female  39.0   3rd        S   \n",
       "4        Abelseth, Miss. Karen Marie  female  16.0   3rd        S   \n",
       "...                              ...     ...   ...   ...      ...   \n",
       "1313              Yūsuf, Mrs. Kātrīn  female  23.0   3rd        C   \n",
       "1315       Zakarian, Mr. Mapriededer    male  22.0   3rd        C   \n",
       "1316             Zakarian, Mr. Ortin    male  27.0   3rd        C   \n",
       "1317               Zenni, Mr. Philip    male  25.0   3rd        C   \n",
       "1318             Zimmermann, Mr. Leo    male  29.0   3rd        S   \n",
       "\n",
       "            country  ticketno     fare  sibsp  parch survived  \n",
       "0     United States    5547.0   7.1100    0.0    0.0       no  \n",
       "1     United States    2673.0  20.0500    0.0    2.0       no  \n",
       "2     United States    2673.0  20.0500    1.0    1.0       no  \n",
       "3           England    2673.0  20.0500    1.0    1.0      yes  \n",
       "4            Norway  348125.0   7.1300    0.0    0.0      yes  \n",
       "...             ...       ...      ...    ...    ...      ...  \n",
       "1313        Lebanon    2668.0  22.0702    0.0    2.0      yes  \n",
       "1315         Turkey    2656.0   7.0406    0.0    0.0       no  \n",
       "1316         Turkey    2670.0   7.0406    0.0    0.0       no  \n",
       "1317        Lebanon    2620.0   7.0406    0.0    0.0      yes  \n",
       "1318        Germany  315082.0   7.1706    0.0    0.0       no  \n",
       "\n",
       "[709 rows x 11 columns]"
      ]
     },
     "execution_count": 5,
     "metadata": {},
     "output_type": "execute_result"
    }
   ],
   "source": [
    "titanic[titanic[\"class\"] == \"3rd\"]"
   ]
  },
  {
   "cell_type": "markdown",
   "id": "renewable-northeast",
   "metadata": {},
   "source": [
    "### Select just the passengers\n",
    "\n",
    "The technique shown in class was to combine together multiple selectors with `|`:"
   ]
  },
  {
   "cell_type": "code",
   "execution_count": 6,
   "id": "legislative-unemployment",
   "metadata": {},
   "outputs": [],
   "source": [
    "passengers = titanic[\n",
    "    (titanic[\"class\"] == \"1st\") | \n",
    "    (titanic[\"class\"] == \"2nd\") | \n",
    "    (titanic[\"class\"] == \"3rd\")\n",
    "]"
   ]
  },
  {
   "cell_type": "markdown",
   "id": "adjusted-vacation",
   "metadata": {},
   "source": [
    "However, it is also possible to use the `isin` method to select from a list of matching options:"
   ]
  },
  {
   "cell_type": "code",
   "execution_count": 7,
   "id": "experimental-fitting",
   "metadata": {},
   "outputs": [],
   "source": [
    "passengers = titanic[titanic[\"class\"].isin([\"1st\", \"2nd\", \"3rd\"])]"
   ]
  },
  {
   "cell_type": "markdown",
   "id": "trained-carroll",
   "metadata": {},
   "source": [
    "## Plotting\n",
    "\n",
    "### Plot the distribution of ages for males and females\n",
    "\n",
    "Using `displot` with `age` as the main variable shows the distribution. YOu can overlay the two genders using `hue=\"gender\"`. To simplify the view, you can set `kind=\"kde\"`. Since KDE mode smooths the data, you can also set a cutoff of 0 to avoid it showing negative ages:"
   ]
  },
  {
   "cell_type": "code",
   "execution_count": 8,
   "id": "advisory-discharge",
   "metadata": {},
   "outputs": [
    {
     "data": {
      "text/plain": [
       "<seaborn.axisgrid.FacetGrid at 0x7f94d5386620>"
      ]
     },
     "execution_count": 8,
     "metadata": {},
     "output_type": "execute_result"
    },
    {
     "data": {
      "image/png": "[encoded data removed]",
      "text/plain": [
       "<Figure size 430.5x360 with 1 Axes>"
      ]
     },
     "metadata": {
      "needs_background": "light"
     },
     "output_type": "display_data"
    }
   ],
   "source": [
    "sns.displot(\n",
    "    data=passengers,\n",
    "    x=\"age\",\n",
    "    hue=\"gender\",\n",
    "    kind=\"kde\",\n",
    "    cut=0\n",
    ")"
   ]
  },
  {
   "cell_type": "markdown",
   "id": "broadband-telling",
   "metadata": {},
   "source": [
    "### How does this differ by class?\n",
    "\n",
    "All that has changed from the last plot is adding in the split by `class` over multiple columns:"
   ]
  },
  {
   "cell_type": "code",
   "execution_count": 9,
   "id": "female-import",
   "metadata": {},
   "outputs": [
    {
     "data": {
      "text/plain": [
       "<seaborn.axisgrid.FacetGrid at 0x7f94d5246920>"
      ]
     },
     "execution_count": 9,
     "metadata": {},
     "output_type": "execute_result"
    },
    {
     "data": {
      "image/png": "[encoded data removed]",
      "text/plain": [
       "<Figure size 1150.5x360 with 3 Axes>"
      ]
     },
     "metadata": {
      "needs_background": "light"
     },
     "output_type": "display_data"
    }
   ],
   "source": [
    "sns.displot(\n",
    "    data=passengers,\n",
    "    x=\"age\",\n",
    "    hue=\"gender\",\n",
    "    kind=\"kde\",\n",
    "    cut=0,\n",
    "    col=\"class\",\n",
    "    col_order=[\"1st\", \"2nd\", \"3rd\"]\n",
    ")"
   ]
  },
  {
   "cell_type": "markdown",
   "id": "royal-fantasy",
   "metadata": {},
   "source": [
    "## Combining\n",
    "\n",
    "To reduce the duplication of effort here, I create a function which, given a set of data, calculated the survived fraction within. This is then called three times, once for each class:"
   ]
  },
  {
   "cell_type": "code",
   "execution_count": 10,
   "id": "going-carry",
   "metadata": {
    "tags": []
   },
   "outputs": [
    {
     "name": "stdout",
     "output_type": "stream",
     "text": [
      "0.6203703703703703 0.4154929577464789 0.2552891396332863\n"
     ]
    }
   ],
   "source": [
    "def survived_ratio(df):\n",
    "    yes = df[df[\"survived\"] == \"yes\"]\n",
    "    return len(yes) / len(df)\n",
    "\n",
    "ratio_1st = survived_ratio(passengers[passengers[\"class\"] == \"1st\"])\n",
    "ratio_2nd = survived_ratio(passengers[passengers[\"class\"] == \"2nd\"])\n",
    "ratio_3rd = survived_ratio(passengers[passengers[\"class\"] == \"3rd\"])\n",
    "\n",
    "print(ratio_1st, ratio_2nd, ratio_3rd)"
   ]
  }
 ],
 "metadata": {
  "kernelspec": {
   "display_name": "Python 3 (ipykernel)",
   "language": "python",
   "name": "python3"
  },
  "language_info": {
   "codemirror_mode": {
    "name": "ipython",
    "version": 3
   },
   "file_extension": ".py",
   "mimetype": "text/x-python",
   "name": "python",
   "nbconvert_exporter": "python",
   "pygments_lexer": "ipython3",
   "version": "3.8.8"
  }
 },
 "nbformat": 4,
 "nbformat_minor": 5
}
