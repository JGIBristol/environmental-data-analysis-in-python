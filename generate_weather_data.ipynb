{
 "cells": [
  {
   "cell_type": "markdown",
   "id": "quick-hamburg",
   "metadata": {},
   "source": [
    "https://www.metoffice.gov.uk/research/climate/maps-and-data/historic-station-data"
   ]
  },
  {
   "cell_type": "code",
   "execution_count": 1,
   "id": "danish-estimate",
   "metadata": {},
   "outputs": [],
   "source": [
    "from urllib.parse import urlparse\n",
    "from pathlib import PurePath, Path\n",
    "from subprocess import run\n",
    "\n",
    "import pandas as pd\n",
    "\n",
    "def historic_station_data(site):\n",
    "    url = f\"https://www.metoffice.gov.uk/pub/data/weather/uk/climate/stationdata/{site}data.txt\"\n",
    "    fn = Path(PurePath(urlparse(url).path).name)\n",
    "    fn.unlink(missing_ok=True)\n",
    "    run([\"wget\", url])\n",
    "\n",
    "    df = pd.read_csv(\n",
    "        fn.name,\n",
    "        skiprows=7,\n",
    "        delim_whitespace=True,\n",
    "        na_values=[\"---\"],\n",
    "        names=[\"yyyy\", \"mm\", \"tmax\", \"tmin\", \"af\", \"rain\", \"sun\", \"provisional\"],\n",
    "        parse_dates=[[\"yyyy\", \"mm\"]],\n",
    "        index_col=\"yyyy_mm\",\n",
    "    )\n",
    "\n",
    "    fn.unlink(missing_ok=True)\n",
    "\n",
    "    # There are some * and # in the file to denote things. Let's rip them out\n",
    "    for col in [\"tmax\", \"tmin\", \"af\", \"rain\", \"sun\"]:\n",
    "        if hasattr(df[col], \"str\"):\n",
    "            df[col] = pd.to_numeric(df[col].str.replace(\"[\\*#]\", \"\", regex=True))\n",
    "\n",
    "    return df\n",
    "\n",
    "rain = pd.concat(\n",
    "    [\n",
    "        historic_station_data(\"cardiff\")[\"rain\"].rename(\"Cardiff\"),\n",
    "        historic_station_data(\"stornoway\")[\"rain\"].rename(\"Stornoway\"),\n",
    "        historic_station_data(\"oxford\")[\"rain\"].rename(\"Oxford\"),\n",
    "        historic_station_data(\"armagh\")[\"rain\"].rename(\"Armagh\"),\n",
    "    ],\n",
    "    axis=1,\n",
    ")\n",
    "rain.resample(\"Y\").mean().to_csv(\"rain.csv\", date_format=\"%Y\", index_label=False, float_format='%.1f')"
   ]
  }
 ],
 "metadata": {
  "kernelspec": {
   "display_name": "Python 3",
   "language": "python",
   "name": "python3"
  },
  "language_info": {
   "codemirror_mode": {
    "name": "ipython",
    "version": 3
   },
   "file_extension": ".py",
   "mimetype": "text/x-python",
   "name": "python",
   "nbconvert_exporter": "python",
   "pygments_lexer": "ipython3",
   "version": "3.8.6"
  }
 },
 "nbformat": 4,
 "nbformat_minor": 5
}
