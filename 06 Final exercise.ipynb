{
 "cells": [
  {
   "cell_type": "markdown",
   "id": "plastic-pakistan",
   "metadata": {},
   "source": [
    "# Final exercise"
   ]
  },
  {
   "cell_type": "markdown",
   "id": "beautiful-sapphire",
   "metadata": {},
   "source": [
    "<img style=\"float:right; border-radius: 10px;\" src=\"titanic.jpg\"/>For the final exercise you should try to combine together all the skills you've learned over this course. This is expected to take you longer than any of the exercises so far. IF you get to this point in ht session, feel free to getstarted on it now, otherwise you can treat this as practice later on.\n",
    "\n",
    "Read the file `titanic.csv` **TODO make this a URL**. This file contains information about all the passengers and crew abourd the RMS Titanic. Its columns are:\n",
    "\n",
    "- `name`: strings with the name of the passenger.\n",
    "- `gender`: \"male\" or \"female\".\n",
    "- `age`: a float with the persons age on the day of the sinking. The age of babies (under 12 months) is given as a fraction of one year.\n",
    "- `class`: a string specifying the class (1<sup>st</sup>, 2<sup>nd</sup> or 3<sup>rd</sup>) for passengers or the type of service aboard for crew members.\n",
    "- `embarked`: the persons place of of embarkment.\n",
    "- `country`: the persons home country.\n",
    "- `ticketno`: the persons ticket number (NA for crew members).\n",
    "- `fare`: the ticket price (NA for crew members, musicians and employees of the shipyard company).\n",
    "- `sibsp`: a number specifying the number if siblings/spouses aboard.\n",
    "- `parch`: a number specifying the number of parents/children aboard.\n",
    "- `survived`: a string (\"no\" or \"yes\") specifying whether the person has survived the sinking.\n",
    "\n",
    "Work through the following questions. Feel free to go off-course and explore whatever you think is interesting in the data."
   ]
  },
  {
   "cell_type": "markdown",
   "id": "collect-sense",
   "metadata": {},
   "source": [
    "## Summarising\n",
    "\n",
    "- Find the average age of all people on board\n",
    "- Use a filter to select only the males\n",
    "- Find the average age of the males on board"
   ]
  },
  {
   "cell_type": "markdown",
   "id": "freelance-rwanda",
   "metadata": {},
   "source": [
    "## Filtering\n",
    "\n",
    "- Use a filter to select only the people in 3<sup>rd</sup> class.\n",
    "- Create a DataFrame which only contains the passengers on the ship (those in first, second or third class)."
   ]
  },
  {
   "cell_type": "markdown",
   "id": "charming-ordering",
   "metadata": {},
   "source": [
    "## Plotting\n",
    "\n",
    "- Plot and compare the distribution of ages for males and females.\n",
    "- How does this differ by class?"
   ]
  },
  {
   "cell_type": "markdown",
   "id": "introductory-benefit",
   "metadata": {},
   "source": [
    "## Combining\n",
    "\n",
    "Calculate the percentage that survived within each class."
   ]
  },
  {
   "cell_type": "markdown",
   "id": "still-horror",
   "metadata": {},
   "source": [
    "## Explore\n",
    "\n",
    "Explore the data and see what you can find. For example, try exploring what the main factors predicting survival were."
   ]
  },
  {
   "cell_type": "markdown",
   "id": "realistic-observation",
   "metadata": {},
   "source": [
    "There's some help with the answers to some parts of this exercise [here](answer_final_exercise.ipynb)."
   ]
  }
 ],
 "metadata": {
  "kernelspec": {
   "display_name": "Python 3",
   "language": "python",
   "name": "python3"
  },
  "language_info": {
   "codemirror_mode": {
    "name": "ipython",
    "version": 3
   },
   "file_extension": ".py",
   "mimetype": "text/x-python",
   "name": "python",
   "nbconvert_exporter": "python",
   "pygments_lexer": "ipython3",
   "version": "3.8.8"
  }
 },
 "nbformat": 4,
 "nbformat_minor": 5
}
