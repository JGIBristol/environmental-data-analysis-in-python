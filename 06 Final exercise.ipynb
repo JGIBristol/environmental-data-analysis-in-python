{
 "cells": [
  {
   "cell_type": "markdown",
   "id": "expired-single",
   "metadata": {},
   "source": [
    "# Final exercise"
   ]
  },
  {
   "cell_type": "markdown",
   "id": "moved-makeup",
   "metadata": {},
   "source": [
    "For the final exercise you should try to combine together all the skills you've learned over this course.\n",
    "\n",
    "Read the file `titanic.csv` **TODO** make this a URL"
   ]
  },
  {
   "cell_type": "markdown",
   "id": "micro-secretary",
   "metadata": {},
   "source": [
    "## Summarising\n",
    "\n",
    "- Find the average age of all people on board\n",
    "- Use a filter to select only the males\n",
    "- Find the average age of the males on board"
   ]
  },
  {
   "cell_type": "markdown",
   "id": "received-shelf",
   "metadata": {},
   "source": [
    "## Filtering\n",
    "\n",
    "- Use a filter to select only the people in 3<sup>rd</sup> class.\n",
    "- Create a DataFrame which only contains the passengers on the ship (those in first, second or third class)."
   ]
  },
  {
   "cell_type": "markdown",
   "id": "early-columbus",
   "metadata": {},
   "source": [
    "## Plotting\n",
    "\n",
    "- Plot and compare the distribution of ages for males and females.\n",
    "- How does this differ by class?"
   ]
  },
  {
   "cell_type": "markdown",
   "id": "missing-robertson",
   "metadata": {},
   "source": [
    "## Combining\n",
    "\n",
    "Calculate the percentage that survived within each class."
   ]
  },
  {
   "cell_type": "markdown",
   "id": "alpha-sherman",
   "metadata": {},
   "source": [
    "## Explore\n",
    "\n",
    "Explore the data and see what you can find. For example, try exploring what the main factors predicting survival were."
   ]
  },
  {
   "cell_type": "markdown",
   "id": "statewide-split",
   "metadata": {},
   "source": [
    "There's some help with the answers to some parts of this exercise [here](answer_final_exercise.ipynb)."
   ]
  }
 ],
 "metadata": {
  "kernelspec": {
   "display_name": "Python 3",
   "language": "python",
   "name": "python3"
  },
  "language_info": {
   "codemirror_mode": {
    "name": "ipython",
    "version": 3
   },
   "file_extension": ".py",
   "mimetype": "text/x-python",
   "name": "python",
   "nbconvert_exporter": "python",
   "pygments_lexer": "ipython3",
   "version": "3.8.8"
  }
 },
 "nbformat": 4,
 "nbformat_minor": 5
}
