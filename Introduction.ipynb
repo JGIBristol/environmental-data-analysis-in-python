{
 "cells": [
  {
   "cell_type": "markdown",
   "metadata": {},
   "source": [
    "# Data analysis in Python"
   ]
  },
  {
   "cell_type": "markdown",
   "metadata": {},
   "source": [
    "This course is aimed at the intermediate Python developer who wants to learn how to do useful data analysis tasks in Python.\n",
    "It will initially focus on the Python package [pandas](http://pandas.pydata.org/) but will also cover [matplotlib](http://matplotlib.org/), [NumPy](http://www.numpy.org/) and [SciPy](https://www.scipy.org/) to some degree.\n",
    "\n",
    "Data analysis is a huge topic and we couldn't possibly cover it all in one short course so the purpose of this workshop is to give you an introduction to some of the most useful tools and to demonstrate some of the most common problems that surface."
   ]
  },
  {
   "cell_type": "markdown",
   "metadata": {},
   "source": [
    "In previous courses, you've used the `python` command line program to execute scripts and `ipython` to run interactively. This course will use another tool called Jupyter (previously known as IPython Notebook) to run your Python code. It operates like a standard IPython interactive session with the addition of allowing you to intersperse your code with blocks of text to explain what you're doing and embed output such as graphs directly into the page."
   ]
  },
  {
   "cell_type": "markdown",
   "metadata": {},
   "source": [
    "To get started, go to the ACRC's Jupyter website at https://jupyterhub-p0.acrc.bris.ac.uk and make sure you're logged in. Towards the top-right of that page there should be three buttons, the middle of which is labelled *New*. Clicking that gives a drop-down and you should select the *Python 3* option.\n",
    "\n",
    "This will open a new notebook file. Give it a name by clicking on the 'Untitled' at the top of the screen.\n",
    "\n",
    "Throughout this course you will likely want to start a new notebook for each section of the course so name them appropriately to make it easier to find them later."
   ]
  },
  {
   "cell_type": "markdown",
   "metadata": {},
   "source": [
    "## Getting started\n",
    "\n",
    "Once the notebook is launched, you will see a wide white box with a grey box inside it with a blue `In [ ]:` to the left. The grey box is an input cell, similar to that which you find in the IPython command line program. You type any Python code you want to run inside that box:"
   ]
  },
  {
   "cell_type": "code",
   "execution_count": 1,
   "metadata": {
    "collapsed": false
   },
   "outputs": [
    {
     "name": "stdout",
     "output_type": "stream",
     "text": [
      "Output apears below when the cell is run\n",
      "To run a cell, press Ctrl-Enter with the cursor inside or use the run button in the toolbar at the top\n"
     ]
    }
   ],
   "source": [
    "# Python code can be written in 'Code' cells\n",
    "print('Output apears below when the cell is run')\n",
    "print('To run a cell, press Ctrl-Enter with the cursor inside or use the run button in the toolbar at the top')"
   ]
  },
  {
   "cell_type": "markdown",
   "metadata": {},
   "source": [
    "In your notebook, type the following in the first cell and then run it, you should see the same output:"
   ]
  },
  {
   "cell_type": "code",
   "execution_count": 2,
   "metadata": {
    "collapsed": false
   },
   "outputs": [
    {
     "data": {
      "text/plain": [
       "12"
      ]
     },
     "execution_count": 2,
     "metadata": {},
     "output_type": "execute_result"
    }
   ],
   "source": [
    "a = 5\n",
    "b = 7\n",
    "a + b"
   ]
  },
  {
   "cell_type": "markdown",
   "metadata": {},
   "source": [
    "The cells in a notebook are linked together so a variable defined in one is available in all the cells from that point on so in the second cell you can use the variables `a` and `b`:"
   ]
  },
  {
   "cell_type": "code",
   "execution_count": 3,
   "metadata": {
    "collapsed": false
   },
   "outputs": [
    {
     "name": "stdout",
     "output_type": "stream",
     "text": [
      "-2\n"
     ]
    }
   ],
   "source": [
    "c = a - b\n",
    "print(c)"
   ]
  },
  {
   "cell_type": "markdown",
   "metadata": {},
   "source": [
    "Some Python libraries have special integration with Jupyter notebooks and so can display their output directly into the page. For example `pandas` will format tables of data nicely and `matplotlib` will embed graphs directly:"
   ]
  },
  {
   "cell_type": "code",
   "execution_count": 4,
   "metadata": {
    "collapsed": false
   },
   "outputs": [
    {
     "data": {
      "text/html": [
       "<div>\n",
       "<table border=\"1\" class=\"dataframe\">\n",
       "  <thead>\n",
       "    <tr style=\"text-align: right;\">\n",
       "      <th></th>\n",
       "      <th>0</th>\n",
       "      <th>1</th>\n",
       "      <th>2</th>\n",
       "    </tr>\n",
       "  </thead>\n",
       "  <tbody>\n",
       "    <tr>\n",
       "      <th>0</th>\n",
       "      <td>1</td>\n",
       "      <td>2</td>\n",
       "      <td>3</td>\n",
       "    </tr>\n",
       "    <tr>\n",
       "      <th>1</th>\n",
       "      <td>5</td>\n",
       "      <td>6</td>\n",
       "      <td>6</td>\n",
       "    </tr>\n",
       "  </tbody>\n",
       "</table>\n",
       "</div>"
      ],
      "text/plain": [
       "   0  1  2\n",
       "0  1  2  3\n",
       "1  5  6  6"
      ]
     },
     "execution_count": 4,
     "metadata": {},
     "output_type": "execute_result"
    }
   ],
   "source": [
    "from pandas import DataFrame\n",
    "DataFrame([[1,2,3],[5,6,6]])"
   ]
  },
  {
   "cell_type": "code",
   "execution_count": 5,
   "metadata": {
    "collapsed": false
   },
   "outputs": [
    {
     "data": {
      "image/png": "[encoded data removed]",
      "text/plain": [
       "<matplotlib.figure.Figure at 0x7f74be973978>"
      ]
     },
     "metadata": {},
     "output_type": "display_data"
    }
   ],
   "source": [
    "import matplotlib.pyplot as plt\n",
    "import numpy as np\n",
    "\n",
    "t = np.arange(0.0, 2.0, 0.01)\n",
    "s = np.sin(2*np.pi*t)\n",
    "plt.plot(t, s)\n",
    "plt.show()"
   ]
  },
  {
   "cell_type": "markdown",
   "metadata": {},
   "source": [
    "## Markdown\n",
    "\n",
    "If you want to write some text as documentation (like these words here) then you should label the cell as being a Markdown cell. Do that by selecting the cell and going to the dropdown at the top of the page labelled *Code* and changing it to *Markdown*.\n",
    "\n",
    "It is becomming common for people to use Jupyter notebooks as a sort of lab notebook where they document their processes, interspersed with code. This style of working where you give prose and code equal weight is sometimes called *literate programming*."
   ]
  },
  {
   "cell_type": "markdown",
   "metadata": {},
   "source": [
    "## Exercise\n",
    "\n",
    "Take the following code and break it down, chunk by chunk, interspersing it with documentation explaining what each part does using Markdown blocks:\n",
    "```python\n",
    "prices = {'apple': 0.40, 'banana': 0.50}\n",
    "my_purchase = {\n",
    "    'apple': 1,\n",
    "    'banana': 6\n",
    "}\n",
    "grocery_bill = 0\n",
    "for fruit in my_purchase:\n",
    "    grocery_bill += prices[fruit] * my_purchase[fruit]\n",
    "print('I owe the grocer ${:.2f}'.format(grocery_bill))\n",
    "```\n",
    "You don't need to put only one line of code per cell, it makes sense to group some lines together."
   ]
  },
  {
   "cell_type": "markdown",
   "metadata": {},
   "source": [
    "Throughout this course, use the Jupyter notebook to solve the problems. Follow along with the examples, typing them into your own notebooks and see how they work.\n",
    "\n",
    "Now to move on to the [next page](pandas.ipynb)."
   ]
  }
 ],
 "metadata": {
  "kernelspec": {
   "display_name": "Python 3",
   "language": "python",
   "name": "python3"
  },
  "language_info": {
   "codemirror_mode": {
    "name": "ipython",
    "version": 3
   },
   "file_extension": ".py",
   "mimetype": "text/x-python",
   "name": "python",
   "nbconvert_exporter": "python",
   "pygments_lexer": "ipython3",
   "version": "3.5.2"
  }
 },
 "nbformat": 4,
 "nbformat_minor": 2
}
