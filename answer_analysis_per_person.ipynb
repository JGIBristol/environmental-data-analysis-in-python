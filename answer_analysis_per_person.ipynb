{
 "cells": [
  {
   "cell_type": "code",
   "execution_count": 1,
   "id": "brave-bronze",
   "metadata": {},
   "outputs": [],
   "source": [
    "import pandas as pd\n",
    "\n",
    "tips = pd.read_csv(\"https://milliams.com/courses/data_analysis_python/tips.csv\")"
   ]
  },
  {
   "cell_type": "code",
   "execution_count": 2,
   "id": "metropolitan-aircraft",
   "metadata": {},
   "outputs": [
    {
     "data": {
      "text/plain": [
       "0       8.495000\n",
       "1       3.446667\n",
       "2       7.003333\n",
       "3      11.840000\n",
       "4       6.147500\n",
       "         ...    \n",
       "239     9.676667\n",
       "240    13.590000\n",
       "241    11.335000\n",
       "242     8.910000\n",
       "243     9.390000\n",
       "Length: 244, dtype: float64"
      ]
     },
     "execution_count": 2,
     "metadata": {},
     "output_type": "execute_result"
    }
   ],
   "source": [
    "bill_per_person = tips[\"total_bill\"] / tips[\"size\"]\n",
    "bill_per_person"
   ]
  },
  {
   "cell_type": "code",
   "execution_count": 3,
   "id": "outer-popularity",
   "metadata": {},
   "outputs": [
    {
     "data": {
      "text/plain": [
       "7.888229508196722"
      ]
     },
     "execution_count": 3,
     "metadata": {},
     "output_type": "execute_result"
    }
   ],
   "source": [
    "bill_per_person.mean()"
   ]
  },
  {
   "cell_type": "code",
   "execution_count": 4,
   "id": "entire-confirmation",
   "metadata": {},
   "outputs": [
    {
     "data": {
      "text/plain": [
       "2.9143496626221"
      ]
     },
     "execution_count": 4,
     "metadata": {},
     "output_type": "execute_result"
    }
   ],
   "source": [
    "bill_per_person.std()"
   ]
  }
 ],
 "metadata": {
  "kernelspec": {
   "display_name": "Python 3",
   "language": "python",
   "name": "python3"
  },
  "language_info": {
   "codemirror_mode": {
    "name": "ipython",
    "version": 3
   },
   "file_extension": ".py",
   "mimetype": "text/x-python",
   "name": "python",
   "nbconvert_exporter": "python",
   "pygments_lexer": "ipython3",
   "version": "3.8.8"
  }
 },
 "nbformat": 4,
 "nbformat_minor": 5
}
