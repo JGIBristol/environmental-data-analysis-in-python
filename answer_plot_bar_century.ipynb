{
 "cells": [
  {
   "cell_type": "code",
   "execution_count": 1,
   "metadata": {},
   "outputs": [],
   "source": [
    "import pandas as pd\n",
    "from pandas import Series"
   ]
  },
  {
   "cell_type": "code",
   "execution_count": 2,
   "metadata": {},
   "outputs": [],
   "source": [
    "import matplotlib.pyplot as plt"
   ]
  },
  {
   "cell_type": "code",
   "execution_count": 3,
   "metadata": {},
   "outputs": [],
   "source": [
    "temperature = pd.read_csv(\n",
    "    \"https://milliams.com/courses/data_analysis_python/cetml1659on.txt\",  # file name\n",
    "    skiprows=6,  # skip header\n",
    "    delim_whitespace=True,  # whitespace separated\n",
    "    na_values=['-99.9', '-99.99'],  # NaNs\n",
    ")"
   ]
  },
  {
   "cell_type": "markdown",
   "metadata": {},
   "source": [
    "The only difference from the *decade* example is that\n",
    "\n",
    "```python\n",
    "(temperature.index // 10) * 10\n",
    "```\n",
    "\n",
    "has changed to\n",
    "\n",
    "```python\n",
    "(temperature.index // 100) * 100\n",
    "```"
   ]
  },
  {
   "cell_type": "code",
   "execution_count": 4,
   "metadata": {},
   "outputs": [],
   "source": [
    "century = (temperature.index // 100) * 100\n",
    "\n",
    "temperature['century'] = century\n",
    "\n",
    "by_century = temperature.groupby('century').mean()"
   ]
  },
  {
   "cell_type": "code",
   "execution_count": 5,
   "metadata": {},
   "outputs": [
    {
     "data": {
      "image/png": "[encoded data removed]",
      "text/plain": [
       "<Figure size 432x288 with 1 Axes>"
      ]
     },
     "metadata": {
      "needs_background": "light"
     },
     "output_type": "display_data"
    }
   ],
   "source": [
    "ax = by_century[\"YEAR\"].plot.bar()\n",
    "\n",
    "ax.set_ylabel(r'Temperature ($^\\circ$C)')\n",
    "\n",
    "plt.show()"
   ]
  }
 ],
 "metadata": {
  "kernelspec": {
   "display_name": "Python 3",
   "language": "python",
   "name": "python3"
  },
  "language_info": {
   "codemirror_mode": {
    "name": "ipython",
    "version": 3
   },
   "file_extension": ".py",
   "mimetype": "text/x-python",
   "name": "python",
   "nbconvert_exporter": "python",
   "pygments_lexer": "ipython3",
   "version": "3.8.5"
  }
 },
 "nbformat": 4,
 "nbformat_minor": 4
}
